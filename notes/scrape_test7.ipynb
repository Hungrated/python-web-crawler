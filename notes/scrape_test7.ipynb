{
 "cells": [
  {
   "cell_type": "code",
   "execution_count": 4,
   "metadata": {},
   "outputs": [
    {
     "name": "stdout",
     "output_type": "stream",
     "text": [
      "The album \"Name\" was released in Year\n",
      "The album \"Monty Python's Flying Circus\" was released in 1970\n",
      "The album \"Another Monty Python Record\" was released in 1971\n",
      "The album \"Monty Python's Previous Record\" was released in 1972\n",
      "The album \"The Monty Python Matching Tie and Handkerchief\" was released in 1973\n",
      "The album \"Monty Python Live at Drury Lane\" was released in 1974\n",
      "The album \"An Album of the Soundtrack of the Trailer of the Film of Monty Python and the Holy Grail\" was released in 1975\n",
      "The album \"Monty Python Live at City Center\" was released in 1977\n",
      "The album \"The Monty Python Instant Record Collection\" was released in 1977\n",
      "The album \"Monty Python's Life of Brian\" was released in 1979\n",
      "The album \"Monty Python's Cotractual Obligation Album\" was released in 1980\n",
      "The album \"Monty Python's The Meaning of Life\" was released in 1983\n",
      "The album \"The Final Rip Off\" was released in 1987\n",
      "The album \"Monty Python Sings\" was released in 1989\n",
      "The album \"The Ultimate Monty Python Rip Off\" was released in 1994\n",
      "The album \"Monty Python Sings Again\" was released in 2014\n"
     ]
    }
   ],
   "source": [
    "# 读取csv\n",
    "\n",
    "from urllib.request import urlopen\n",
    "from io import StringIO\n",
    "import csv\n",
    "\n",
    "data = urlopen(\"http://pythonscraping.com/files/MontyPythonAlbums.csv\").read().decode('ascii', 'ignore')\n",
    "dataFile = StringIO(data)\n",
    "csvReader = csv.reader(dataFile)\n",
    "\n",
    "# for row in csvReader:\n",
    "#     print(row)\n",
    "    \n",
    "for row in csvReader:\n",
    "    print(\"The album \\\"\"+row[0]+\"\\\" was released in \"+str(row[1]))"
   ]
  },
  {
   "cell_type": "code",
   "execution_count": null,
   "metadata": {},
   "outputs": [],
   "source": []
  }
 ],
 "metadata": {
  "kernelspec": {
   "display_name": "Python 3",
   "language": "python",
   "name": "python3"
  },
  "language_info": {
   "codemirror_mode": {
    "name": "ipython",
    "version": 3
   },
   "file_extension": ".py",
   "mimetype": "text/x-python",
   "name": "python",
   "nbconvert_exporter": "python",
   "pygments_lexer": "ipython3",
   "version": "3.6.5"
  }
 },
 "nbformat": 4,
 "nbformat_minor": 2
}
